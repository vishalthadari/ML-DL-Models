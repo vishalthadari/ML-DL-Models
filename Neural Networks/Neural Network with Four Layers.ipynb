{
 "cells": [
  {
   "cell_type": "code",
   "execution_count": 1,
   "metadata": {},
   "outputs": [],
   "source": [
    "import numpy as np\n",
    "from sklearn import datasets, linear_model\n",
    "import matplotlib.pyplot as plt"
   ]
  },
  {
   "cell_type": "code",
   "execution_count": 3,
   "metadata": {},
   "outputs": [],
   "source": [
    "class Config:\n",
    "    nn_input_dim = 2  # input layer dimensionality\n",
    "    nn_output_dim = 2  # output layer dimensionality\n",
    "    # Gradient descent parameters (I picked these by hand)\n",
    "    epsilon = 0.01  # learning rate for gradient descent\n",
    "    reg_lambda = 0.01 # regularization strength"
   ]
  },
  {
   "cell_type": "code",
   "execution_count": 5,
   "metadata": {},
   "outputs": [],
   "source": [
    "def generate_data():\n",
    "    np.random.seed(0)\n",
    "    X, y = datasets.make_moons(200, noise=0.20)\n",
    "    return X, y"
   ]
  },
  {
   "cell_type": "code",
   "execution_count": 6,
   "metadata": {},
   "outputs": [],
   "source": [
    "\n",
    "def visualize(X, y, model):\n",
    "    # plt.scatter(X[:, 0], X[:, 1], s=40, c=y, cmap=plt.cm.Spectral)\n",
    "    # plt.show()\n",
    "    plt.title(\"four layers Neural Net\")\n",
    "    plot_decision_boundary(lambda x:predict(model,x), X, y)\n"
   ]
  },
  {
   "cell_type": "code",
   "execution_count": 7,
   "metadata": {},
   "outputs": [],
   "source": [
    "def plot_decision_boundary(pred_func, X, y):\n",
    "    # Set min and max values and give it some padding\n",
    "    x_min, x_max = X[:, 0].min() - .5, X[:, 0].max() + .5\n",
    "    y_min, y_max = X[:, 1].min() - .5, X[:, 1].max() + .5\n",
    "    h = 0.01\n",
    "    # Generate a grid of points with distance h between them\n",
    "    xx, yy = np.meshgrid(np.arange(x_min, x_max, h), np.arange(y_min, y_max, h))\n",
    "    # Predict the function value for the whole gid\n",
    "    Z = pred_func(np.c_[xx.ravel(), yy.ravel()])\n",
    "    Z = Z.reshape(xx.shape)\n",
    "    # Plot the contour and training examples\n",
    "    plt.contourf(xx, yy, Z, cmap=plt.cm.Spectral)\n",
    "    plt.scatter(X[:, 0], X[:, 1], c=y)#, cmap=plt.cm.Spectral)\n",
    "    plt.show()\n"
   ]
  },
  {
   "cell_type": "code",
   "execution_count": 9,
   "metadata": {},
   "outputs": [],
   "source": [
    "def calculate_loss(model, X, y):\n",
    "    num_examples = len(X)  # training set size\n",
    "    #W1, b1, W2, b2 = model['W1'], model['b1'], model['W2'], model['b2']\n",
    "    W1, b1, W2, b2, W3, b3 = model['W1'], model['b1'], model['W2'], model['b2'], model['W3'], model['b3']  ### 4layers\n",
    "    # Forward propagation to calculate our predictions\n",
    "    z1 = X.dot(W1) + b1\n",
    "    a1 = np.tanh(z1)\n",
    "    z2 = a1.dot(W2) + b2\n",
    "    #exp_scores = np.exp(z2)\n",
    "    a2 = np.tanh(z2)            ### 4layers\n",
    "    z3 = a2.dot(W3) + b3        ### 4layers\n",
    "    exp_scores = np.exp(z3)     ### 4layers\n",
    "    probs = exp_scores / np.sum(exp_scores, axis=1, keepdims=True)\n",
    "    # Calculating the loss\n",
    "    corect_logprobs = -np.log(probs[range(num_examples), y])\n",
    "    data_loss = np.sum(corect_logprobs)\n",
    "    # Add regulatization term to loss (optional)\n",
    "    #data_loss += Config.reg_lambda / 2 * (np.sum(np.square(W1)) + np.sum(np.square(W2)))\n",
    "    data_loss += Config.reg_lambda / 2 * (np.sum(np.square(W1)) + np.sum(np.square(W2)) + np.sum(np.square(W3)))  ###\n",
    "    return 1. / num_examples * data_loss"
   ]
  },
  {
   "cell_type": "code",
   "execution_count": 10,
   "metadata": {},
   "outputs": [],
   "source": [
    "def predict(model, x):\n",
    "    #W1, b1, W2, b2 = model['W1'], model['b1'], model['W2'], model['b2']\n",
    "    W1, b1, W2, b2, W3, b3 = model['W1'], model['b1'], model['W2'], model['b2'], model['W3'], model['b3']  ### 4layers\n",
    "    # Forward propagation\n",
    "    z1 = x.dot(W1) + b1\n",
    "    a1 = np.tanh(z1)\n",
    "    z2 = a1.dot(W2) + b2\n",
    "    #exp_scores = np.exp(z2)\n",
    "    a2 = np.tanh(z2)            ### 4layers\n",
    "    z3 = a2.dot(W3) + b3        ### 4layers\n",
    "    exp_scores = np.exp(z3)     ### 4layers\n",
    "    probs = exp_scores / np.sum(exp_scores, axis=1, keepdims=True)\n",
    "    return np.argmax(probs, axis=1)"
   ]
  },
  {
   "cell_type": "code",
   "execution_count": 12,
   "metadata": {},
   "outputs": [],
   "source": [
    "# - print_loss: If True, print the loss every 1000 iterations\n",
    "def build_model(X, y, nn_hdim, num_passes=20000, print_loss=False):\n",
    "    # Initialize the parameters to random values. We need to learn these.\n",
    "    num_examples = len(X)\n",
    "    np.random.seed(0)\n",
    "    W1 = np.random.randn(Config.nn_input_dim, nn_hdim) / np.sqrt(Config.nn_input_dim)\n",
    "    b1 = np.zeros((1, nn_hdim))\n",
    "    #W2 = np.random.randn(nn_hdim, Config.nn_output_dim) / np.sqrt(nn_hdim)\n",
    "    #b2 = np.zeros((1, Config.nn_output_dim))\n",
    "    W2 = np.random.randn(nn_hdim, nn_hdim) / np.sqrt(nn_hdim)\n",
    "    b2 = np.zeros((1, nn_hdim))\n",
    "    W3 = np.random.randn(nn_hdim, Config.nn_output_dim) / np.sqrt(nn_hdim)\n",
    "    b3 = np.zeros((1, Config.nn_output_dim))\n",
    "\n",
    "    decay = 1.                              ###\n",
    "    # This is what we return at the end\n",
    "    model = {}\n",
    "\n",
    "    # Gradient descent. For each batch...\n",
    "    for i in range(0, num_passes):\n",
    "\n",
    "        # Forward propagation\n",
    "        z1 = X.dot(W1) + b1\n",
    "        a1 = np.tanh(z1)\n",
    "        z2 = a1.dot(W2) + b2\n",
    "        # exp_scores = np.exp(z2)\n",
    "        a2 = np.tanh(z2)  ### 4layers\n",
    "        z3 = a2.dot(W3) + b3  ### 4layers\n",
    "        exp_scores = np.exp(z3)  ### 4layers\n",
    "        probs = exp_scores / np.sum(exp_scores, axis=1, keepdims=True)\n",
    "\n",
    "        # Backpropagation\n",
    "        #delta3 = probs\n",
    "        #delta3[range(num_examples), y] -= 1\n",
    "        delta4 = probs                                      ###\n",
    "        delta4[range(num_examples), y] -= 1                 ###\n",
    "        dW3 = (a2.T).dot(delta4)                            ###\n",
    "        db3 = np.sum(delta4, axis=0, keepdims=True)         ###\n",
    "        delta3 = delta4.dot(W3.T) * (1 - np.power(a2, 2))   ###\n",
    "        dW2 = (a1.T).dot(delta3)\n",
    "        db2 = np.sum(delta3, axis=0, keepdims=True)\n",
    "        delta2 = delta3.dot(W2.T) * (1 - np.power(a1, 2))\n",
    "        dW1 = np.dot(X.T, delta2)\n",
    "        db1 = np.sum(delta2, axis=0)\n",
    "\n",
    "        # Add regularization terms (b1 and b2 don't have regularization terms)\n",
    "        dW3 += Config.reg_lambda * W3                       ###\n",
    "        dW2 += Config.reg_lambda * W2\n",
    "        dW1 += Config.reg_lambda * W1\n",
    "\n",
    "        # Gradient descent parameter update\n",
    "        W1 += -Config.epsilon * dW1 * decay\n",
    "        b1 += -Config.epsilon * db1 * decay\n",
    "        W2 += -Config.epsilon * dW2 * decay\n",
    "        b2 += -Config.epsilon * db2 * decay\n",
    "        W3 += -Config.epsilon * dW3 * decay                        ###\n",
    "        b3 += -Config.epsilon * db3 * decay                        ###\n",
    "\n",
    "        # Assign new parameters to the model\n",
    "        #model = {'W1': W1, 'b1': b1, 'W2': W2, 'b2': b2}\n",
    "\n",
    "        # Optionally print the loss.\n",
    "        # This is expensive because it uses the whole dataset, so we don't want to do it too often.\n",
    "        if print_loss and i % 1000 == 0:\n",
    "            model = {'W1': W1, 'b1': b1, 'W2': W2, 'b2': b2, 'W3': W3, 'b3': b3}  ###\n",
    "            print(\"Loss after iteration %i: %f\" % (i, calculate_loss(model, X, y)))\n",
    "            #decay *= 0.8\n",
    "\n",
    "    model = {'W1': W1, 'b1': b1, 'W2': W2, 'b2': b2, 'W3': W3, 'b3': b3}  ###\n",
    "    return model"
   ]
  },
  {
   "cell_type": "code",
   "execution_count": 14,
   "metadata": {},
   "outputs": [],
   "source": [
    "def classify(X, y):\n",
    "    # clf = linear_model.LogisticRegressionCV()\n",
    "    # clf.fit(X, y)\n",
    "    # return clf\n",
    "\n",
    "    pass"
   ]
  },
  {
   "cell_type": "code",
   "execution_count": 16,
   "metadata": {},
   "outputs": [],
   "source": [
    "def main():\n",
    "    X, y = generate_data()\n",
    "    #mask = np.random.choice(200, 50)                                ### add 1 line\n",
    "    #model = build_model(X[mask], y[mask], 3, print_loss=True)       ### add [mask]\n",
    "    model = build_model(X, y, 3, print_loss=True)\n",
    "    visualize(X, y, model)"
   ]
  },
  {
   "cell_type": "code",
   "execution_count": 17,
   "metadata": {},
   "outputs": [
    {
     "name": "stdout",
     "output_type": "stream",
     "text": [
      "Loss after iteration 0: 0.471233\n",
      "Loss after iteration 1000: 0.060126\n",
      "Loss after iteration 2000: 0.059230\n",
      "Loss after iteration 3000: 0.064547\n",
      "Loss after iteration 4000: 0.061661\n",
      "Loss after iteration 5000: 0.060537\n",
      "Loss after iteration 6000: 0.061042\n",
      "Loss after iteration 7000: 0.063132\n",
      "Loss after iteration 8000: 0.062305\n",
      "Loss after iteration 9000: 0.052323\n",
      "Loss after iteration 10000: 0.051477\n",
      "Loss after iteration 11000: 0.051029\n",
      "Loss after iteration 12000: 0.051537\n",
      "Loss after iteration 13000: 0.056647\n",
      "Loss after iteration 14000: 0.046484\n",
      "Loss after iteration 15000: 0.064996\n",
      "Loss after iteration 16000: 0.046669\n",
      "Loss after iteration 17000: 0.045631\n",
      "Loss after iteration 18000: 0.049889\n",
      "Loss after iteration 19000: 0.054381\n"
     ]
    },
    {
     "data": {
      "image/png": "[encoded data removed]",
      "text/plain": [
       "<Figure size 432x288 with 1 Axes>"
      ]
     },
     "metadata": {
      "needs_background": "light"
     },
     "output_type": "display_data"
    }
   ],
   "source": [
    "main()"
   ]
  },
  {
   "cell_type": "code",
   "execution_count": null,
   "metadata": {},
   "outputs": [],
   "source": []
  }
 ],
 "metadata": {
  "kernelspec": {
   "display_name": "Python 3",
   "language": "python",
   "name": "python3"
  },
  "language_info": {
   "codemirror_mode": {
    "name": "ipython",
    "version": 3
   },
   "file_extension": ".py",
   "mimetype": "text/x-python",
   "name": "python",
   "nbconvert_exporter": "python",
   "pygments_lexer": "ipython3",
   "version": "3.6.6"
  }
 },
 "nbformat": 4,
 "nbformat_minor": 2
}
