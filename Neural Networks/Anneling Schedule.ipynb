{
 "cells": [
  {
   "cell_type": "code",
   "execution_count": 1,
   "metadata": {},
   "outputs": [],
   "source": [
    "import numpy as np\n",
    "from sklearn import datasets, linear_model\n",
    "import matplotlib.pyplot as plt\n"
   ]
  },
  {
   "cell_type": "code",
   "execution_count": 2,
   "metadata": {},
   "outputs": [],
   "source": [
    "class Config:\n",
    "    nn_input_dim = 2  # input layer dimensionality\n",
    "    nn_output_dim = 2  # output layer dimensionality\n",
    "    # Gradient descent parameters (I picked these by hand)\n",
    "    epsilon = 0.01  # learning rate for gradient descent\n",
    "    reg_lambda = 0.01 #"
   ]
  },
  {
   "cell_type": "code",
   "execution_count": 3,
   "metadata": {},
   "outputs": [],
   "source": [
    "\n",
    "def generate_data():\n",
    "    np.random.seed(0)\n",
    "    X, y = datasets.make_moons(200, noise=0.20)\n",
    "    return X, y"
   ]
  },
  {
   "cell_type": "code",
   "execution_count": null,
   "metadata": {},
   "outputs": [],
   "source": []
  },
  {
   "cell_type": "code",
   "execution_count": 4,
   "metadata": {},
   "outputs": [],
   "source": [
    "def visualize(X, y, model):\n",
    "    # plt.scatter(X[:, 0], X[:, 1], s=40, c=y, cmap=plt.cm.Spectral)\n",
    "    # plt.show()\n",
    "    plt.title(\"Logistic Regression\")\n",
    "    plot_decision_boundary(lambda x:predict(model,x), X, y)\n"
   ]
  },
  {
   "cell_type": "code",
   "execution_count": 5,
   "metadata": {},
   "outputs": [],
   "source": [
    "def plot_decision_boundary(pred_func, X, y):\n",
    "    # Set min and max values and give it some padding\n",
    "    x_min, x_max = X[:, 0].min() - .5, X[:, 0].max() + .5\n",
    "    y_min, y_max = X[:, 1].min() - .5, X[:, 1].max() + .5\n",
    "    h = 0.01\n",
    "    # Generate a grid of points with distance h between them\n",
    "    xx, yy = np.meshgrid(np.arange(x_min, x_max, h), np.arange(y_min, y_max, h))\n",
    "    # Predict the function value for the whole gid\n",
    "    Z = pred_func(np.c_[xx.ravel(), yy.ravel()])\n",
    "    Z = Z.reshape(xx.shape)\n",
    "    # Plot the contour and training examples\n",
    "    plt.contourf(xx, yy, Z, cmap=plt.cm.Spectral)\n",
    "    plt.scatter(X[:, 0], X[:, 1], c=y, cmap=plt.cm.Spectral)\n",
    "    plt.show()"
   ]
  },
  {
   "cell_type": "code",
   "execution_count": 6,
   "metadata": {},
   "outputs": [],
   "source": [
    "def calculate_loss(model, X, y):\n",
    "    num_examples = len(X)  # training set size\n",
    "    W1, b1, W2, b2 = model['W1'], model['b1'], model['W2'], model['b2']\n",
    "    # Forward propagation to calculate our predictions\n",
    "    z1 = X.dot(W1) + b1\n",
    "    a1 = np.tanh(z1)\n",
    "    z2 = a1.dot(W2) + b2\n",
    "    exp_scores = np.exp(z2)\n",
    "    probs = exp_scores / np.sum(exp_scores, axis=1, keepdims=True)\n",
    "    # Calculating the loss\n",
    "    corect_logprobs = -np.log(probs[range(num_examples), y])\n",
    "    data_loss = np.sum(corect_logprobs)\n",
    "    # Add regulatization term to loss (optional)\n",
    "    data_loss += Config.reg_lambda / 2 * (np.sum(np.square(W1)) + np.sum(np.square(W2)))\n",
    "    return 1. / num_examples * data_loss"
   ]
  },
  {
   "cell_type": "code",
   "execution_count": 7,
   "metadata": {},
   "outputs": [],
   "source": [
    "def predict(model, x):\n",
    "    W1, b1, W2, b2 = model['W1'], model['b1'], model['W2'], model['b2']\n",
    "    # Forward propagation\n",
    "    z1 = x.dot(W1) + b1\n",
    "    a1 = np.tanh(z1)\n",
    "    z2 = a1.dot(W2) + b2\n",
    "    exp_scores = np.exp(z2)\n",
    "    probs = exp_scores / np.sum(exp_scores, axis=1, keepdims=True)\n",
    "    return np.argmax(probs, axis=1)"
   ]
  },
  {
   "cell_type": "code",
   "execution_count": 9,
   "metadata": {},
   "outputs": [],
   "source": [
    "def build_model(X, y, nn_hdim, num_passes=20000, print_loss=False):\n",
    "    # Initialize the parameters to random values. We need to learn these.\n",
    "    num_examples = len(X)\n",
    "    np.random.seed(0)\n",
    "    W1 = np.random.randn(Config.nn_input_dim, nn_hdim) / np.sqrt(Config.nn_input_dim)\n",
    "    b1 = np.zeros((1, nn_hdim))\n",
    "    W2 = np.random.randn(nn_hdim, Config.nn_output_dim) / np.sqrt(nn_hdim)\n",
    "    b2 = np.zeros((1, Config.nn_output_dim))\n",
    "\n",
    "    # This is what we return at the end\n",
    "    model = {}\n",
    "\n",
    "    lrate = Config.epsilon * 3.            ### 100times and half by 50 epoch\n",
    "    # Gradient descent. For each batch...\n",
    "    for i in range(0, num_passes):\n",
    "\n",
    "        # Forward propagation\n",
    "        z1 = X.dot(W1) + b1\n",
    "        a1 = np.tanh(z1)\n",
    "        z2 = a1.dot(W2) + b2\n",
    "        exp_scores = np.exp(z2)\n",
    "        probs = exp_scores / np.sum(exp_scores, axis=1, keepdims=True)\n",
    "\n",
    "        # Backpropagation\n",
    "        delta3 = probs\n",
    "        delta3[range(num_examples), y] -= 1\n",
    "        dW2 = (a1.T).dot(delta3)\n",
    "        db2 = np.sum(delta3, axis=0, keepdims=True)\n",
    "        delta2 = delta3.dot(W2.T) * (1 - np.power(a1, 2))\n",
    "        dW1 = np.dot(X.T, delta2)\n",
    "        db1 = np.sum(delta2, axis=0)\n",
    "\n",
    "        # Add regularization terms (b1 and b2 don't have regularization terms)\n",
    "        dW2 += Config.reg_lambda * W2\n",
    "        dW1 += Config.reg_lambda * W1\n",
    "\n",
    "        # Gradient descent parameter update\n",
    "        #W1 += -Config.epsilon * dW1\n",
    "        #b1 += -Config.epsilon * db1\n",
    "        #W2 += -Config.epsilon * dW2\n",
    "        #b2 += -Config.epsilon * db2\n",
    "        W1 += -lrate * dW1\n",
    "        b1 += -lrate * db1\n",
    "        W2 += -lrate * dW2\n",
    "        b2 += -lrate * db2\n",
    "\n",
    "        # Assign new parameters to the model\n",
    "        model = {'W1': W1, 'b1': b1, 'W2': W2, 'b2': b2}\n",
    "\n",
    "        # Optionally print the loss.\n",
    "        # This is expensive because it uses the whole dataset, so we don't want to do it too often.\n",
    "        if print_loss and i % 1000 == 0:\n",
    "            lrate *= 0.7\n",
    "            #print(\"Loss after iteration %i: %f\" % (i, calculate_loss(model, X, y)))\n",
    "            print(\"Loss after iteration %i: %f (lrate: %f)\" % (i, calculate_loss(model, X, y),lrate))\n",
    "\n",
    "    return model\n"
   ]
  },
  {
   "cell_type": "code",
   "execution_count": 10,
   "metadata": {},
   "outputs": [],
   "source": [
    "def main():\n",
    "    X, y = generate_data()\n",
    "    mask = np.random.choice(200, 50)                                ### add 1 line\n",
    "    model = build_model(X[mask], y[mask], 3, print_loss=True)       ### add [mask]\n",
    "    #model = build_model(X, y, 3, print_loss=True)\n",
    "    visualize(X, y, model)"
   ]
  },
  {
   "cell_type": "code",
   "execution_count": 11,
   "metadata": {},
   "outputs": [
    {
     "name": "stdout",
     "output_type": "stream",
     "text": [
      "Loss after iteration 0: 0.419169 (lrate: 0.021000)\n",
      "Loss after iteration 1000: 0.016240 (lrate: 0.014700)\n",
      "Loss after iteration 2000: 0.015845 (lrate: 0.010290)\n",
      "Loss after iteration 3000: 0.015778 (lrate: 0.007203)\n",
      "Loss after iteration 4000: 0.015752 (lrate: 0.005042)\n",
      "Loss after iteration 5000: 0.015739 (lrate: 0.003529)\n",
      "Loss after iteration 6000: 0.015731 (lrate: 0.002471)\n",
      "Loss after iteration 7000: 0.015727 (lrate: 0.001729)\n",
      "Loss after iteration 8000: 0.015724 (lrate: 0.001211)\n",
      "Loss after iteration 9000: 0.015722 (lrate: 0.000847)\n",
      "Loss after iteration 10000: 0.015720 (lrate: 0.000593)\n",
      "Loss after iteration 11000: 0.015719 (lrate: 0.000415)\n",
      "Loss after iteration 12000: 0.015719 (lrate: 0.000291)\n",
      "Loss after iteration 13000: 0.015718 (lrate: 0.000203)\n",
      "Loss after iteration 14000: 0.015718 (lrate: 0.000142)\n",
      "Loss after iteration 15000: 0.015718 (lrate: 0.000100)\n",
      "Loss after iteration 16000: 0.015718 (lrate: 0.000070)\n",
      "Loss after iteration 17000: 0.015718 (lrate: 0.000049)\n",
      "Loss after iteration 18000: 0.015718 (lrate: 0.000034)\n",
      "Loss after iteration 19000: 0.015718 (lrate: 0.000024)\n"
     ]
    },
    {
     "data": {
      "image/png": "[encoded data removed]",
      "text/plain": [
       "<Figure size 432x288 with 1 Axes>"
      ]
     },
     "metadata": {
      "needs_background": "light"
     },
     "output_type": "display_data"
    }
   ],
   "source": [
    "main()"
   ]
  },
  {
   "cell_type": "code",
   "execution_count": null,
   "metadata": {},
   "outputs": [],
   "source": []
  },
  {
   "cell_type": "code",
   "execution_count": null,
   "metadata": {},
   "outputs": [],
   "source": []
  },
  {
   "cell_type": "code",
   "execution_count": null,
   "metadata": {},
   "outputs": [],
   "source": []
  }
 ],
 "metadata": {
  "kernelspec": {
   "display_name": "Python 3",
   "language": "python",
   "name": "python3"
  },
  "language_info": {
   "codemirror_mode": {
    "name": "ipython",
    "version": 3
   },
   "file_extension": ".py",
   "mimetype": "text/x-python",
   "name": "python",
   "nbconvert_exporter": "python",
   "pygments_lexer": "ipython3",
   "version": "3.6.6"
  }
 },
 "nbformat": 4,
 "nbformat_minor": 2
}
